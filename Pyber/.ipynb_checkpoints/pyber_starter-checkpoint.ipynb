{
 "cells": [
  {
   "cell_type": "code",
   "execution_count": 129,
   "metadata": {},
   "outputs": [
    {
     "data": {
      "text/html": [
       "<div>\n",
       "<style scoped>\n",
       "    .dataframe tbody tr th:only-of-type {\n",
       "        vertical-align: middle;\n",
       "    }\n",
       "\n",
       "    .dataframe tbody tr th {\n",
       "        vertical-align: top;\n",
       "    }\n",
       "\n",
       "    .dataframe thead th {\n",
       "        text-align: right;\n",
       "    }\n",
       "</style>\n",
       "<table border=\"1\" class=\"dataframe\">\n",
       "  <thead>\n",
       "    <tr style=\"text-align: right;\">\n",
       "      <th></th>\n",
       "      <th>city</th>\n",
       "      <th>date</th>\n",
       "      <th>fare</th>\n",
       "      <th>ride_id</th>\n",
       "      <th>driver_count</th>\n",
       "      <th>type</th>\n",
       "    </tr>\n",
       "  </thead>\n",
       "  <tbody>\n",
       "    <tr>\n",
       "      <th>0</th>\n",
       "      <td>Lake Jonathanshire</td>\n",
       "      <td>2018-01-14 10:14:22</td>\n",
       "      <td>13.83</td>\n",
       "      <td>5739410935873</td>\n",
       "      <td>5</td>\n",
       "      <td>Urban</td>\n",
       "    </tr>\n",
       "    <tr>\n",
       "      <th>1</th>\n",
       "      <td>South Michelleport</td>\n",
       "      <td>2018-03-04 18:24:09</td>\n",
       "      <td>30.24</td>\n",
       "      <td>2343912425577</td>\n",
       "      <td>72</td>\n",
       "      <td>Urban</td>\n",
       "    </tr>\n",
       "    <tr>\n",
       "      <th>2</th>\n",
       "      <td>Port Samanthamouth</td>\n",
       "      <td>2018-02-24 04:29:00</td>\n",
       "      <td>33.44</td>\n",
       "      <td>2005065760003</td>\n",
       "      <td>57</td>\n",
       "      <td>Urban</td>\n",
       "    </tr>\n",
       "    <tr>\n",
       "      <th>3</th>\n",
       "      <td>Rodneyfort</td>\n",
       "      <td>2018-02-10 23:22:03</td>\n",
       "      <td>23.44</td>\n",
       "      <td>5149245426178</td>\n",
       "      <td>34</td>\n",
       "      <td>Urban</td>\n",
       "    </tr>\n",
       "    <tr>\n",
       "      <th>4</th>\n",
       "      <td>South Jack</td>\n",
       "      <td>2018-03-06 04:28:35</td>\n",
       "      <td>34.58</td>\n",
       "      <td>3908451377344</td>\n",
       "      <td>46</td>\n",
       "      <td>Urban</td>\n",
       "    </tr>\n",
       "  </tbody>\n",
       "</table>\n",
       "</div>"
      ],
      "text/plain": [
       "                 city                 date   fare        ride_id  \\\n",
       "0  Lake Jonathanshire  2018-01-14 10:14:22  13.83  5739410935873   \n",
       "1  South Michelleport  2018-03-04 18:24:09  30.24  2343912425577   \n",
       "2  Port Samanthamouth  2018-02-24 04:29:00  33.44  2005065760003   \n",
       "3          Rodneyfort  2018-02-10 23:22:03  23.44  5149245426178   \n",
       "4          South Jack  2018-03-06 04:28:35  34.58  3908451377344   \n",
       "\n",
       "   driver_count   type  \n",
       "0             5  Urban  \n",
       "1            72  Urban  \n",
       "2            57  Urban  \n",
       "3            34  Urban  \n",
       "4            46  Urban  "
      ]
     },
     "execution_count": 129,
     "metadata": {},
     "output_type": "execute_result"
    }
   ],
   "source": [
    "%matplotlib inline\n",
    "# Dependencies and Setup\n",
    "import matplotlib.pyplot as plt\n",
    "import pandas as pd\n",
    "import numpy as np\n",
    "\n",
    "# File to Load (Remember to change these)\n",
    "city_data_to_load = \"data/city_data.csv\"\n",
    "ride_data_to_load = \"data/ride_data.csv\"\n",
    "\n",
    "# Read the City and Ride Data\n",
    "city_df = pd.read_csv(city_data_to_load)\n",
    "ride_df = pd.read_csv(ride_data_to_load)\n",
    "ride_all_df=pd.merge(ride_df, city_df, how='inner', on='city')\n",
    "# Combine the data into a single dataset\n",
    "ride_df= ride_df.drop_duplicates(\"city\",keep=\"first\")\n",
    "city_ride_df = pd.merge(ride_df, city_df, how='outer', on='city')\n",
    "# Display the data table for preview\n",
    "#city_ride_df.to_csv(\"check1.csv\",header=True, index=False)\n",
    "city_ride_df.head()"
   ]
  },
  {
   "cell_type": "code",
   "execution_count": 130,
   "metadata": {},
   "outputs": [
    {
     "data": {
      "text/html": [
       "<div>\n",
       "<style scoped>\n",
       "    .dataframe tbody tr th:only-of-type {\n",
       "        vertical-align: middle;\n",
       "    }\n",
       "\n",
       "    .dataframe tbody tr th {\n",
       "        vertical-align: top;\n",
       "    }\n",
       "\n",
       "    .dataframe thead th {\n",
       "        text-align: right;\n",
       "    }\n",
       "</style>\n",
       "<table border=\"1\" class=\"dataframe\">\n",
       "  <thead>\n",
       "    <tr style=\"text-align: right;\">\n",
       "      <th></th>\n",
       "      <th>city</th>\n",
       "      <th>ride_id</th>\n",
       "      <th>fare</th>\n",
       "      <th>driver_count</th>\n",
       "    </tr>\n",
       "    <tr>\n",
       "      <th>type</th>\n",
       "      <th></th>\n",
       "      <th></th>\n",
       "      <th></th>\n",
       "      <th></th>\n",
       "    </tr>\n",
       "  </thead>\n",
       "  <tbody>\n",
       "    <tr>\n",
       "      <th>Rural</th>\n",
       "      <td>Bradshawfurt</td>\n",
       "      <td>10</td>\n",
       "      <td>40.064000</td>\n",
       "      <td>7</td>\n",
       "    </tr>\n",
       "    <tr>\n",
       "      <th>Rural</th>\n",
       "      <td>Garzaport</td>\n",
       "      <td>3</td>\n",
       "      <td>24.123333</td>\n",
       "      <td>7</td>\n",
       "    </tr>\n",
       "    <tr>\n",
       "      <th>Rural</th>\n",
       "      <td>Harringtonfort</td>\n",
       "      <td>6</td>\n",
       "      <td>33.470000</td>\n",
       "      <td>4</td>\n",
       "    </tr>\n",
       "    <tr>\n",
       "      <th>Rural</th>\n",
       "      <td>Jessicaport</td>\n",
       "      <td>6</td>\n",
       "      <td>36.013333</td>\n",
       "      <td>1</td>\n",
       "    </tr>\n",
       "    <tr>\n",
       "      <th>Rural</th>\n",
       "      <td>Lake Jamie</td>\n",
       "      <td>6</td>\n",
       "      <td>34.358333</td>\n",
       "      <td>4</td>\n",
       "    </tr>\n",
       "  </tbody>\n",
       "</table>\n",
       "</div>"
      ],
      "text/plain": [
       "                 city  ride_id       fare  driver_count\n",
       "type                                                   \n",
       "Rural    Bradshawfurt       10  40.064000             7\n",
       "Rural       Garzaport        3  24.123333             7\n",
       "Rural  Harringtonfort        6  33.470000             4\n",
       "Rural     Jessicaport        6  36.013333             1\n",
       "Rural      Lake Jamie        6  34.358333             4"
      ]
     },
     "execution_count": 130,
     "metadata": {},
     "output_type": "execute_result"
    }
   ],
   "source": [
    "summary_df=ride_all_df.groupby([\"type\",\"city\"],as_index=False).agg({'ride_id':'count', 'fare':'mean','driver_count':'first'})\n",
    "#summary_df=ride_all_df.groupby([\"city\"]).agg({'ride_id':'count', 'fare':'mean','driver_count':'first'})\n",
    "##check or testing with the droped dup\n",
    "#summary_df=city_ride_df.groupby([\"type\",\"city\"]).agg({'ride_id':'count', 'fare':'mean','driver_count':'first'})\n",
    "#summary_df1=pd.DataFrame(summary_df)\n",
    "summary_df=summary_df.set_index('type')\n",
    "summary_df.head()\n",
    "\n",
    "#ride_all_df.head()"
   ]
  },
  {
   "cell_type": "code",
   "execution_count": null,
   "metadata": {
    "scrolled": true
   },
   "outputs": [],
   "source": []
  },
  {
   "cell_type": "code",
   "execution_count": 143,
   "metadata": {},
   "outputs": [
    {
     "data": {
      "image/png": "[encoded data removed]",
      "text/plain": [
       "<Figure size 432x288 with 1 Axes>"
      ]
     },
     "metadata": {
      "needs_background": "light"
     },
     "output_type": "display_data"
    }
   ],
   "source": [
    "\n",
    "\n",
    "urban_fr = summary_df.loc[\"Urban\",[\"city\",\"ride_id\",\"fare\",\"driver_count\"]]\n",
    "urban_fr.head()\n",
    "x_urb_axis=[ride for ride in urban_fr[\"ride_id\"]]\n",
    "y_urb_fare_df =[fare for fare in urban_fr[\"fare\"]]\n",
    "\n",
    "\n",
    "\n",
    "rural_fr = summary_df.loc[\"Rural\",[\"city\",\"ride_id\",\"fare\",\"driver_count\"]]\n",
    "rural_fr.head()\n",
    "x_rur_axis=[ride for ride in rural_fr[\"ride_id\"]]\n",
    "y_rur_fare_df =[fare for fare in rural_fr[\"fare\"]]\n",
    "\n",
    "\n",
    "\n",
    "sub_fr = summary_df.loc[\"Suburban\",[\"city\",\"ride_id\",\"fare\",\"driver_count\"]]\n",
    "sub_fr.head()\n",
    "x_sub_axis=[ride for ride in sub_fr[\"ride_id\"]]\n",
    "y_sub_fare_df =[fare for fare in sub_fr[\"fare\"]]\n",
    "\n",
    "\n",
    "\n",
    "\n",
    "#plt.figure(figsize=(7,7))\n",
    "plt.xlim(0,41)\n",
    "plt.ylim(19,45)\n",
    "plt.title(\"Pyber Ride Sharing Data (2016)\")\n",
    "plt.xlabel(\"Total Number of Rides (Per City)\")\n",
    "plt.ylabel(\"Average Fare ($)\")\n",
    "\n",
    "plt.scatter(x_urb_axis, y_urb_fare_df,marker=\"o\", alpha=.8,linewidths=1, color=\"coral\",s=10*urban_fr[\"driver_count\"], edgecolors='black',label=\"Urban\")\n",
    "plt.scatter(x_rur_axis, y_rur_fare_df,marker=\"o\", alpha=.8,linewidths=1, color=\"yellow\",s=10*rural_fr[\"driver_count\"], edgecolors='black',label=\"Rural\")\n",
    "plt.scatter(x_sub_axis, y_sub_df,marker=\"o\", alpha=.5, linewidths=1,color=\"teal\",s=10*sub_fr[\"driver_count\"], edgecolors='black',label=\"Suburban\")\n",
    "\n",
    "\n",
    "plt.grid()\n",
    "\n",
    "\n",
    "\n",
    "lgnd=plt.legend(loc='upper right',markerscale=.5,title=\"City Types\")\n",
    "lgnd.legendHandles[0]._sizes = [30]\n",
    "lgnd.legendHandles[1]._sizes = [30]\n",
    "lgnd.legendHandles[2]._sizes = [30]\n",
    "\n",
    "plt.tight_layout(True)\n",
    "plt.show()\n",
    "\n",
    "\n",
    "\n",
    "\n",
    "\n",
    "\n",
    "\n"
   ]
  },
  {
   "cell_type": "markdown",
   "metadata": {},
   "source": [
    "## Bubble Plot of Ride Sharing Data"
   ]
  },
  {
   "cell_type": "code",
   "execution_count": 132,
   "metadata": {},
   "outputs": [],
   "source": [
    "# Obtain the x and y coordinates for each of the three city types\n",
    "\n",
    "# Build the scatter plots for each city types\n",
    "\n",
    "# Incorporate the other graph properties\n",
    "\n",
    "# Create a legend\n",
    "\n",
    "# Incorporate a text label regarding circle size\n",
    "\n",
    "# Save Figure\n"
   ]
  },
  {
   "cell_type": "code",
   "execution_count": 133,
   "metadata": {},
   "outputs": [],
   "source": [
    "# Show plot\n",
    "plt.show()"
   ]
  },
  {
   "cell_type": "markdown",
   "metadata": {},
   "source": [
    "## Total Fares by City Type"
   ]
  },
  {
   "cell_type": "code",
   "execution_count": 134,
   "metadata": {},
   "outputs": [],
   "source": [
    "# Calculate Type Percents\n",
    "\n",
    "# Build Pie Chart\n",
    "\n",
    "# Save Figure\n"
   ]
  },
  {
   "cell_type": "code",
   "execution_count": 135,
   "metadata": {},
   "outputs": [],
   "source": [
    "# Show Figure\n",
    "plt.show()"
   ]
  },
  {
   "cell_type": "markdown",
   "metadata": {},
   "source": [
    "## Total Rides by City Type"
   ]
  },
  {
   "cell_type": "code",
   "execution_count": 136,
   "metadata": {},
   "outputs": [],
   "source": [
    "# Calculate Ride Percents\n",
    "\n",
    "# Build Pie Chart\n",
    "\n",
    "# Save Figure\n"
   ]
  },
  {
   "cell_type": "code",
   "execution_count": 137,
   "metadata": {},
   "outputs": [],
   "source": [
    "# Show Figure\n",
    "plt.show()"
   ]
  },
  {
   "cell_type": "markdown",
   "metadata": {},
   "source": [
    "## Total Drivers by City Type"
   ]
  },
  {
   "cell_type": "code",
   "execution_count": 138,
   "metadata": {},
   "outputs": [],
   "source": [
    "# Calculate Driver Percents\n",
    "\n",
    "# Build Pie Charts\n",
    "\n",
    "# Save Figure\n"
   ]
  },
  {
   "cell_type": "code",
   "execution_count": 139,
   "metadata": {
    "scrolled": true
   },
   "outputs": [],
   "source": [
    "# Show Figure\n",
    "plt.show()"
   ]
  },
  {
   "cell_type": "code",
   "execution_count": null,
   "metadata": {},
   "outputs": [],
   "source": []
  }
 ],
 "metadata": {
  "anaconda-cloud": {},
  "kernelspec": {
   "display_name": "Python 3",
   "language": "python",
   "name": "python3"
  },
  "language_info": {
   "codemirror_mode": {
    "name": "ipython",
    "version": 3
   },
   "file_extension": ".py",
   "mimetype": "text/x-python",
   "name": "python",
   "nbconvert_exporter": "python",
   "pygments_lexer": "ipython3",
   "version": "3.7.0"
  }
 },
 "nbformat": 4,
 "nbformat_minor": 2
}
